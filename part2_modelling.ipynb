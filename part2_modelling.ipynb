{
 "cells": [
  {
   "cell_type": "markdown",
   "metadata": {},
   "source": [
    "**Part 2**\n",
    "\n",
    "## Transform sentences to sequences\n",
    "\n",
    "First, we need to import packages for modelling, as well as loading the Word2Vec model and the preprocessed datasets we have done in part 1:"
   ]
  },
  {
   "cell_type": "code",
   "execution_count": 1,
   "metadata": {},
   "outputs": [
    {
     "name": "stderr",
     "output_type": "stream",
     "text": [
      "Using TensorFlow backend.\n"
     ]
    }
   ],
   "source": [
    "# Mute warning for better reading\n",
    "import warnings\n",
    "from tensorflow.compat.v1 import logging\n",
    "warnings.filterwarnings('ignore')\n",
    "logging.set_verbosity(logging.ERROR)\n",
    "\n",
    "# Data loading and manipulation\n",
    "import pickle\n",
    "import numpy as np\n",
    "\n",
    "# Tools for building a model\n",
    "from sklearn.model_selection import train_test_split\n",
    "from keras.models import Sequential\n",
    "from keras.layers import Dense, LSTM, Dropout, Bidirectional\n",
    "from keras.layers.embeddings import Embedding\n",
    "from keras.preprocessing.sequence import pad_sequences\n",
    "\n",
    "# Sklearn metric tools for assessing the quality of model prediction\n",
    "from sklearn.metrics import accuracy_score, confusion_matrix\n",
    "\n",
    "# Load the data from pickle\n",
    "trigrams_model = pickle.load(open('resources/trigrams_model.pickle', 'rb'))\n",
    "train = pickle.load(open('resources/trainset.pickle', 'rb'))\n",
    "test = pickle.load(open('resources/testset.pickle', 'rb'))\n",
    "\n",
    "X_train, Y_train = train[0], train[1]\n",
    "X_test, Y_test = test[0], test[1]"
   ]
  },
  {
   "cell_type": "markdown",
   "metadata": {},
   "source": [
    "With the sentences-with-n-grams, we can vetorize our sentences and later transforming them into sequences for training the model."
   ]
  },
  {
   "cell_type": "code",
   "execution_count": 2,
   "metadata": {},
   "outputs": [
    {
     "name": "stdout",
     "output_type": "stream",
     "text": [
      "Vectorize sentences... (done)\n",
      "Transform sentences to sequences... (done)\n",
      "Wall time: 5min 55s\n"
     ]
    }
   ],
   "source": [
    "%%time\n",
    "def vectorize_data(data, vocab: dict) -> list:\n",
    "    print('Vectorize sentences...', end='\\r')\n",
    "    keys = list(vocab.keys())\n",
    "    filter_unknown = lambda word: vocab.get(word, None) is not None\n",
    "    encode = lambda review: list(map(keys.index, filter(filter_unknown, review)))\n",
    "    vectorized = list(map(encode, data))\n",
    "    print('Vectorize sentences... (done)')\n",
    "    return vectorized\n",
    "\n",
    "input_length = 150\n",
    "X_train_pad = pad_sequences(\n",
    "    sequences=vectorize_data(X_train, vocab=trigrams_model.wv.vocab),\n",
    "    maxlen=input_length,\n",
    "    padding='post')\n",
    "print('Transform sentences to sequences... (done)')"
   ]
  },
  {
   "cell_type": "markdown",
   "metadata": {},
   "source": [
    "## Building the model using BiLSTM\n",
    "\n",
    "We are going to use Bidirectional LSTMs (BiLSTM), which is one of the RNN architectures for deep learning that are used in occasions where the learning problem is sequential. As the movie reviews are naturally sequential, we can try using this technique to train our model to predict whether it is possitive or not.\n",
    "\n",
    "In BiLSTM, it involves duplicating the first recurrent layer in the network so that there are now two layers side-by-side, then providing the input sequence as-is as input to the first layer and providing a reversed copy of the input sequence to the second. It usually learns faster than one-directional approach.\n",
    "\n",
    "So here let's define and configure how the model will work:"
   ]
  },
  {
   "cell_type": "code",
   "execution_count": 3,
   "metadata": {},
   "outputs": [
    {
     "name": "stdout",
     "output_type": "stream",
     "text": [
      "_________________________________________________________________\n",
      "Layer (type)                 Output Shape              Param #   \n",
      "=================================================================\n",
      "embedding_1 (Embedding)      (None, 150, 256)          23625472  \n",
      "_________________________________________________________________\n",
      "bidirectional_1 (Bidirection (None, 256)               394240    \n",
      "_________________________________________________________________\n",
      "dropout_1 (Dropout)          (None, 256)               0         \n",
      "_________________________________________________________________\n",
      "dense_1 (Dense)              (None, 64)                16448     \n",
      "_________________________________________________________________\n",
      "dropout_2 (Dropout)          (None, 64)                0         \n",
      "_________________________________________________________________\n",
      "dense_2 (Dense)              (None, 1)                 65        \n",
      "=================================================================\n",
      "Total params: 24,036,225\n",
      "Trainable params: 410,753\n",
      "Non-trainable params: 23,625,472\n",
      "_________________________________________________________________\n"
     ]
    }
   ],
   "source": [
    "def build_model(embedding_matrix: np.ndarray, input_length: int):\n",
    "    model = Sequential()\n",
    "    # Embedding layer (lookup table of trainable word vectors)\n",
    "    model.add(Embedding(\n",
    "        input_dim = embedding_matrix.shape[0],\n",
    "        output_dim = embedding_matrix.shape[1], \n",
    "        input_length = input_length,\n",
    "        weights = [embedding_matrix],\n",
    "        trainable=False))\n",
    "    # Bidirectional LSTMs layer\n",
    "    model.add(Bidirectional(LSTM(128, recurrent_dropout=0.1)))\n",
    "    # Dropout and Dense twice\n",
    "    model.add(Dropout(0.25))\n",
    "    model.add(Dense(64))\n",
    "    model.add(Dropout(0.3))\n",
    "    model.add(Dense(1, activation='sigmoid'))\n",
    "    # Give out a summary\n",
    "    model.summary()\n",
    "    return model\n",
    "\n",
    "model = build_model(\n",
    "    embedding_matrix=trigrams_model.wv.vectors,\n",
    "    input_length=input_length)"
   ]
  },
  {
   "cell_type": "markdown",
   "metadata": {},
   "source": [
    "Before we start feeding the model with our training data set, let's split some data from the training set to build a validation set.\n",
    "\n",
    "The idea of making this validation set for the model is that we can judge how well the model can generalize. Meaning, how well can the model able to predict on data that it's not seen while being trained.\n",
    "\n",
    "The model does not \"see\" our validation set and is not in any way trained on it, but we as the architect and master of the hyperparameters tune the model according to this data. Therefore it indirectly influences the model because it directly influences our design decisions.\n",
    "\n",
    "So here we use sklearn to split 5% of the training data for validation."
   ]
  },
  {
   "cell_type": "code",
   "execution_count": 4,
   "metadata": {},
   "outputs": [],
   "source": [
    "x_feed, x_valid, y_feed, y_valid = train_test_split(\n",
    "    X_train_pad,\n",
    "    Y_train,\n",
    "    test_size=0.05,\n",
    "    shuffle=True,\n",
    "    random_state=42)"
   ]
  },
  {
   "cell_type": "markdown",
   "metadata": {},
   "source": [
    "And let's feed in data and start training it!"
   ]
  },
  {
   "cell_type": "code",
   "execution_count": 5,
   "metadata": {},
   "outputs": [
    {
     "name": "stdout",
     "output_type": "stream",
     "text": [
      "Train on 23750 samples, validate on 1250 samples\n",
      "Epoch 1/20\n",
      "23750/23750 [==============================] - 183s 8ms/step - loss: 0.6508 - acc: 0.6155 - val_loss: 0.5438 - val_acc: 0.7456\n",
      "Epoch 2/20\n",
      "23750/23750 [==============================] - 178s 8ms/step - loss: 0.5687 - acc: 0.7145 - val_loss: 0.5190 - val_acc: 0.7648\n",
      "Epoch 3/20\n",
      "23750/23750 [==============================] - 176s 7ms/step - loss: 0.4996 - acc: 0.7656 - val_loss: 0.4613 - val_acc: 0.7824\n",
      "Epoch 4/20\n",
      "23750/23750 [==============================] - 185s 8ms/step - loss: 0.4439 - acc: 0.7956 - val_loss: 0.4446 - val_acc: 0.7920\n",
      "Epoch 5/20\n",
      "23750/23750 [==============================] - 207s 9ms/step - loss: 0.3942 - acc: 0.8281 - val_loss: 0.4219 - val_acc: 0.8224\n",
      "Epoch 6/20\n",
      "23750/23750 [==============================] - 231s 10ms/step - loss: 0.3501 - acc: 0.8477 - val_loss: 0.4065 - val_acc: 0.8312\n",
      "Epoch 7/20\n",
      "23750/23750 [==============================] - 252s 11ms/step - loss: 0.3153 - acc: 0.8657 - val_loss: 0.4096 - val_acc: 0.8208\n",
      "Epoch 8/20\n",
      "23750/23750 [==============================] - 297s 13ms/step - loss: 0.2737 - acc: 0.8836 - val_loss: 0.4669 - val_acc: 0.8096\n",
      "Epoch 9/20\n",
      "23750/23750 [==============================] - 306s 13ms/step - loss: 0.2317 - acc: 0.9051 - val_loss: 0.4736 - val_acc: 0.8192\n",
      "Epoch 10/20\n",
      "23750/23750 [==============================] - 340s 14ms/step - loss: 0.1961 - acc: 0.9202 - val_loss: 0.5664 - val_acc: 0.7968\n",
      "Epoch 11/20\n",
      "23750/23750 [==============================] - 341s 14ms/step - loss: 0.1723 - acc: 0.9291 - val_loss: 0.5218 - val_acc: 0.8224\n",
      "Epoch 12/20\n",
      "23750/23750 [==============================] - 357s 15ms/step - loss: 0.1399 - acc: 0.9449 - val_loss: 0.6103 - val_acc: 0.8200\n",
      "Epoch 13/20\n",
      "23750/23750 [==============================] - 368s 15ms/step - loss: 0.1209 - acc: 0.9523 - val_loss: 0.6379 - val_acc: 0.8192\n",
      "Epoch 14/20\n",
      "23750/23750 [==============================] - 386s 16ms/step - loss: 0.0942 - acc: 0.9629 - val_loss: 0.7227 - val_acc: 0.8176\n",
      "Epoch 15/20\n",
      "23750/23750 [==============================] - 400s 17ms/step - loss: 0.0904 - acc: 0.9651 - val_loss: 0.7249 - val_acc: 0.8320\n",
      "Epoch 16/20\n",
      "23750/23750 [==============================] - 427s 18ms/step - loss: 0.0708 - acc: 0.9740 - val_loss: 0.7448 - val_acc: 0.8304\n",
      "Epoch 17/20\n",
      "23750/23750 [==============================] - 474s 20ms/step - loss: 0.0779 - acc: 0.9697 - val_loss: 0.7525 - val_acc: 0.8216\n",
      "Epoch 18/20\n",
      "23750/23750 [==============================] - 503s 21ms/step - loss: 0.0618 - acc: 0.9756 - val_loss: 0.9215 - val_acc: 0.8072\n",
      "Epoch 19/20\n",
      "23750/23750 [==============================] - 496s 21ms/step - loss: 0.0552 - acc: 0.9793 - val_loss: 0.8684 - val_acc: 0.8312\n",
      "Epoch 20/20\n",
      "23750/23750 [==============================] - 483s 20ms/step - loss: 0.0438 - acc: 0.9844 - val_loss: 0.9865 - val_acc: 0.8088\n"
     ]
    }
   ],
   "source": [
    "# Here we use adam optimizer\n",
    "model.compile(\n",
    "    loss=\"binary_crossentropy\",\n",
    "    optimizer='adam',\n",
    "    metrics=['accuracy'])\n",
    "\n",
    "# And we train the model for 20 epochs\n",
    "# (could be run as many times as needed, 20 might be enough in this case)\n",
    "history = model.fit(\n",
    "    x=x_feed,\n",
    "    y=y_feed,\n",
    "    validation_data=(x_valid, y_valid),\n",
    "    batch_size=100,\n",
    "    epochs=20)"
   ]
  },
  {
   "cell_type": "markdown",
   "metadata": {},
   "source": [
    "Above we can see that we are getting a 80% accuracy with around 4% loss after 20 epoch, which is overall pretty good."
   ]
  },
  {
   "cell_type": "code",
   "execution_count": 7,
   "metadata": {},
   "outputs": [],
   "source": [
    "# Save our model and the training history to the dir (so we may refer it back later)\n",
    "model.save('my_model.h5')\n",
    "pickle.dump(history.history, open('resources/history', 'wb'))"
   ]
  },
  {
   "cell_type": "markdown",
   "metadata": {},
   "source": [
    "## Model performance\n",
    "\n",
    "Before we check how our model perform, let's also transfrom the testing data:"
   ]
  },
  {
   "cell_type": "code",
   "execution_count": 8,
   "metadata": {},
   "outputs": [
    {
     "name": "stdout",
     "output_type": "stream",
     "text": [
      "Vectorize sentences... (done)\n",
      "Transform sentences to sequences... (done)\n",
      "Wall time: 7min 15s\n"
     ]
    }
   ],
   "source": [
    "%%time\n",
    "X_test_pad = pad_sequences(\n",
    "    sequences=vectorize_data(X_test, vocab=trigrams_model.wv.vocab),\n",
    "    maxlen=input_length,\n",
    "    padding='post')\n",
    "print('Transform sentences to sequences... (done)')"
   ]
  },
  {
   "cell_type": "markdown",
   "metadata": {},
   "source": [
    "Now, let's use our model to predict the sentiment of the movie reviews. We use the training data predictions as a comparison with the testing data predictions. Then we show both results with sklearn classification report."
   ]
  },
  {
   "cell_type": "code",
   "execution_count": 10,
   "metadata": {},
   "outputs": [
    {
     "name": "stdout",
     "output_type": "stream",
     "text": [
      "Wall time: 3min 1s\n"
     ]
    }
   ],
   "source": [
    "%%time\n",
    "# Predict using training and testing data respectively\n",
    "Y_train_pred = model.predict_classes(X_train_pad)\n",
    "Y_test_pred = model.predict_classes(X_test_pad)"
   ]
  },
  {
   "cell_type": "code",
   "execution_count": 21,
   "metadata": {},
   "outputs": [
    {
     "name": "stdout",
     "output_type": "stream",
     "text": [
      "              precision    recall  f1-score   support\n",
      "\n",
      "           0       0.99      0.97      0.98     12766\n",
      "           1       0.97      0.99      0.98     12234\n",
      "\n",
      "    accuracy                           0.98     25000\n",
      "   macro avg       0.98      0.98      0.98     25000\n",
      "weighted avg       0.98      0.98      0.98     25000\n",
      "\n",
      "              precision    recall  f1-score   support\n",
      "\n",
      "           0       0.88      0.74      0.80     14881\n",
      "           1       0.69      0.85      0.76     10119\n",
      "\n",
      "    accuracy                           0.78     25000\n",
      "   macro avg       0.78      0.79      0.78     25000\n",
      "weighted avg       0.80      0.78      0.79     25000\n",
      "\n"
     ]
    }
   ],
   "source": [
    "from sklearn.metrics import classification_report\n",
    "\n",
    "# Train data report (for comparison)\n",
    "print(classification_report(Y_train_pred, Y_train))\n",
    "# Test data report (real thing)\n",
    "print(classification_report(Y_test_pred, Y_test))"
   ]
  },
  {
   "cell_type": "markdown",
   "metadata": {},
   "source": [
    "As we can see, we reach an accuracy of 78% with the testing dataset in the final. And let's see how the training progress goes:"
   ]
  },
  {
   "cell_type": "code",
   "execution_count": 22,
   "metadata": {},
   "outputs": [
    {
     "data": {
      "image/png": "[encoded data removed]",
      "text/plain": [
       "<Figure size 1152x432 with 2 Axes>"
      ]
     },
     "metadata": {
      "needs_background": "light"
     },
     "output_type": "display_data"
    }
   ],
   "source": [
    "fig, (axis1, axis2) = plt.subplots(nrows=1, ncols=2, figsize=(16,6))\n",
    "\n",
    "# summarize history for accuracy\n",
    "axis1.plot(history.history['acc'], label='Train', linewidth=3)\n",
    "axis1.plot(history.history['val_acc'], label='Validation', linewidth=3)\n",
    "axis1.set_title('Model accuracy', fontsize=16)\n",
    "axis1.set_ylabel('accuracy')\n",
    "axis1.set_xlabel('epoch')\n",
    "axis1.legend(loc='upper left')\n",
    "\n",
    "# summarize history for loss\n",
    "axis2.plot(history.history['loss'], label='Train', linewidth=3)\n",
    "axis2.plot(history.history['val_loss'], label='Validation', linewidth=3)\n",
    "axis2.set_title('Model loss', fontsize=16)\n",
    "axis2.set_ylabel('loss')\n",
    "axis2.set_xlabel('epoch')\n",
    "axis2.legend(loc='upper right')\n",
    "plt.show()"
   ]
  },
  {
   "cell_type": "markdown",
   "metadata": {},
   "source": [
    "It is still possible to try out different parameters which may lead to better result. And if possible, we can find more dataset to train that may imporve this model.\n",
    "\n",
    "---\n",
    "**End**"
   ]
  }
 ],
 "metadata": {
  "kernelspec": {
   "display_name": "Python 3",
   "language": "python",
   "name": "python3"
  },
  "language_info": {
   "codemirror_mode": {
    "name": "ipython",
    "version": 3
   },
   "file_extension": ".py",
   "mimetype": "text/x-python",
   "name": "python",
   "nbconvert_exporter": "python",
   "pygments_lexer": "ipython3",
   "version": "3.7.4"
  }
 },
 "nbformat": 4,
 "nbformat_minor": 2
}
