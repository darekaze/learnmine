{
 "cells": [
  {
   "cell_type": "markdown",
   "metadata": {},
   "source": [
    "# COMP4432 Individual Project\n",
    "\n",
    "## Sentiment Analysis and Text Classification on IMDB Movie Reviews Dataset\n",
    "\n",
    "JAHJA Darwin // 16094501d\n",
    "\n",
    "---\n",
    "## Intro\n",
    "\n",
    "Sentiment analysis is a challenging subject in machine learning. People express their emotions in language that is often obscured by sarcasm, ambiguity, and plays on words, all of which could be very misleading for both humans and computers. In this project, we are going to perform some sentimental analysis on the IMDB movie reviews to see how we can train a model that predicts whether a review is positive or negative.\n",
    "\n",
    "In these 2 notebooks, we are going to combining pre-trained word2vec embeddings with Bidirectional Long short-term memory (BiLSTM) to build out our machine learning modal. The source code and report are based on two Jupyter Notebooks -- one for data preprocessing and Word2Vec Modelling, one for modelling -- for better understanding.\n",
    "\n",
    "To give a short summary, in the beginning without using the word2vec embeddings (only tokenize), I reach ~70% accuracy with the testing dataset. With pre-trained word2vec embeddings and some parameter tunings, the final accurary have reached 78%. The result could probably still be improved with more training dataset and parameter tuning.\n",
    "\n",
    "## Importing packages and dataset\n",
    "\n",
    "First, we need to import package and dataset to start.\n",
    "\n",
    "As the data is not properly organized in a formatted way, I have processes all the datasets into `.csv` file."
   ]
  },
  {
   "cell_type": "code",
   "execution_count": 1,
   "metadata": {},
   "outputs": [],
   "source": [
    "import warnings\n",
    "warnings.filterwarnings('ignore')\n",
    "\n",
    "# Data manipulation\n",
    "import numpy as np\n",
    "import pandas as pd\n",
    "import re\n",
    "import pickle\n",
    "\n",
    "# Visualization\n",
    "import matplotlib.pyplot as plt\n",
    "import seaborn as sb\n",
    "\n",
    "# Tools for preprocessing input data\n",
    "from bs4 import BeautifulSoup\n",
    "from nltk import word_tokenize\n",
    "from nltk.corpus import stopwords\n",
    "from nltk.stem import WordNetLemmatizer\n",
    "\n",
    "# Tools for creating ngrams and vectorizing input data\n",
    "from gensim.models import Word2Vec, Phrases\n",
    "\n",
    "# File system tool\n",
    "import os\n",
    "from pathlib import Path"
   ]
  },
  {
   "cell_type": "code",
   "execution_count": 2,
   "metadata": {},
   "outputs": [],
   "source": [
    "# # Input data files are available in the \"input/\" directory\n",
    "# # This process takes a lot of IO process and I've read and write all data into '.csv' file\n",
    "# def load_data_from(directory, sublist):\n",
    "#     results, texts = [], []\n",
    "#     for label_type in sublist:\n",
    "#         dir_name = os.path.join(directory, label_type)\n",
    "#         for fname in os.listdir(dir_name):\n",
    "#             if fname[-4:] == '.txt':\n",
    "#                 f = open(os.path.join(dir_name, fname), encoding='utf8')\n",
    "#                 texts.append(f.read())\n",
    "#                 f.close()\n",
    "#                 if label_type == 'neg':\n",
    "#                     results.append(0)\n",
    "#                 elif label_type == 'pos':\n",
    "#                     results.append(1)\n",
    "#     return results, texts\n",
    "\n",
    "# # Note: change '\\\\' to '/' in unix based system\n",
    "# imdb_dir = 'input\\\\imdb-movie-reviews-dataset\\\\aclImdb'\n",
    "# train_dir = os.path.join(imdb_dir, 'train')\n",
    "# test_dir = os.path.join(imdb_dir, 'test')\n",
    "\n",
    "# sentiments, reviews = load_data_from(train_dir, ['pos', 'neg'])\n",
    "# test_sentiments, test_reviews = load_data_from(test_dir, ['pos', 'neg'])\n",
    "# _, unsup_reviews = load_data_from(train_dir, ['unsup'])\n",
    "\n",
    "# train_data = pd.DataFrame({'review': reviews, 'sentiment': sentiments})\n",
    "# test_data = pd.DataFrame({'review': test_reviews, 'sentiment': test_sentiments})\n",
    "# unsup_data = pd.DataFrame({'review': unsup_reviews})\n",
    "\n",
    "# train_data.to_csv('resources/train.csv', index=False)\n",
    "# test_data.to_csv('resources/test.csv', index=False)\n",
    "# unsup_data.to_csv('resources/unsup.csv', index=False)"
   ]
  },
  {
   "cell_type": "code",
   "execution_count": 3,
   "metadata": {},
   "outputs": [
    {
     "name": "stdout",
     "output_type": "stream",
     "text": [
      "\n",
      "Train data\n",
      "<class 'pandas.core.frame.DataFrame'>\n",
      "RangeIndex: 25000 entries, 0 to 24999\n",
      "Data columns (total 2 columns):\n",
      "review       25000 non-null object\n",
      "sentiment    25000 non-null int64\n",
      "dtypes: int64(1), object(1)\n",
      "memory usage: 390.8+ KB\n",
      "\n",
      "Test data\n",
      "<class 'pandas.core.frame.DataFrame'>\n",
      "RangeIndex: 25000 entries, 0 to 24999\n",
      "Data columns (total 2 columns):\n",
      "review       25000 non-null object\n",
      "sentiment    25000 non-null int64\n",
      "dtypes: int64(1), object(1)\n",
      "memory usage: 390.8+ KB\n",
      "\n",
      "Unsup train data\n",
      "<class 'pandas.core.frame.DataFrame'>\n",
      "RangeIndex: 50000 entries, 0 to 49999\n",
      "Data columns (total 1 columns):\n",
      "review    50000 non-null object\n",
      "dtypes: object(1)\n",
      "memory usage: 390.8+ KB\n"
     ]
    }
   ],
   "source": [
    "# Read files from csv\n",
    "train_data = pd.read_csv('resources/train.csv')\n",
    "test_data = pd.read_csv('resources/test.csv')\n",
    "unsup_data = pd.read_csv('resources/unsup.csv')\n",
    "\n",
    "datasets = [train_data, test_data, unsup_data]\n",
    "titles = ['Train data', 'Test data', 'Unsup train data']\n",
    "\n",
    "for dataset, title in zip(datasets,titles):\n",
    "    print(f'\\n{title}')\n",
    "    dataset.info()"
   ]
  },
  {
   "cell_type": "code",
   "execution_count": 4,
   "metadata": {},
   "outputs": [
    {
     "data": {
      "image/png": "[encoded data removed]",
      "text/plain": [
       "<Figure size 432x288 with 1 Axes>"
      ]
     },
     "metadata": {
      "needs_background": "light"
     },
     "output_type": "display_data"
    }
   ],
   "source": [
    "# Show class distribution\n",
    "plt.hist(train_data[train_data.sentiment == 1].sentiment,\n",
    "         bins=2, color='green', label='Positive')\n",
    "plt.hist(train_data[train_data.sentiment == 0].sentiment,\n",
    "         bins=2, color='blue', label='Negative')\n",
    "plt.title('Classes distribution in the train data')\n",
    "plt.xticks([])\n",
    "plt.xlim(-0.5, 2)\n",
    "plt.legend()\n",
    "plt.show()"
   ]
  },
  {
   "cell_type": "code",
   "execution_count": 5,
   "metadata": {},
   "outputs": [
    {
     "name": "stdout",
     "output_type": "stream",
     "text": [
      "Total number of reviews: 100000\n"
     ]
    }
   ],
   "source": [
    "# Prepare total number of review\n",
    "all_reviews = np.array([], dtype=str)\n",
    "for dataset in datasets:\n",
    "    all_reviews = np.concatenate((all_reviews, dataset.review), axis=0)\n",
    "print('Total number of reviews:', len(all_reviews))"
   ]
  },
  {
   "cell_type": "markdown",
   "metadata": {},
   "source": [
    "## Data Preprocessing\n",
    "\n",
    "Let's see how an original review looks like:"
   ]
  },
  {
   "cell_type": "code",
   "execution_count": 6,
   "metadata": {},
   "outputs": [
    {
     "name": "stdout",
     "output_type": "stream",
     "text": [
      "Bromwell High is a cartoon comedy. It ran at the same time as some other programs about school life, such as \"Teachers\". My 35 years in the teaching profession lead me to believe that Bromwell High's satire is much closer to reality than is \"Teachers\". The scramble to survive financially, the insightful students who can see right through their pathetic teachers' pomp, the pettiness of the whole situation, all remind me of the schools I knew and their students. When I saw the episode in which a s...\n"
     ]
    }
   ],
   "source": [
    "# Limiting some output\n",
    "print(all_reviews[0][:500] + '...')"
   ]
  },
  {
   "cell_type": "markdown",
   "metadata": {},
   "source": [
    "There are HTML tags (e.g. `<br />`), punctuations, abbreviations - all common issues when processing text from the Internet.\n",
    "\n",
    "Apart from those issues, we need to deal with the common words (a.k.a stop words) that don't carry much meaning (e.g. in, on, to, etc.). Also, we also need to perform lemmatization to reduce inflectional forms and sometimes derivationally related forms of a word to a common base form. (e.g. car, cars, car's, cars' => car).\n",
    "\n",
    "Therefore, we need to clean and tidy them up using some useful and handy packages.\n",
    "\n",
    "- **BeautifulSoup:** For cleaning up HTML Markup\n",
    "- **Natural Language Toolkit (NLTK):** Tokenize words, Remove stop words and perform Lemmatize\n",
    "\n",
    "Below we define some functions to perform the above operations:"
   ]
  },
  {
   "cell_type": "code",
   "execution_count": 7,
   "metadata": {},
   "outputs": [],
   "source": [
    "stop_words = set(stopwords.words(\"english\")) \n",
    "lemmatizer = WordNetLemmatizer()\n",
    "\n",
    "def clean_review(raw_review: str) -> str:\n",
    "    # 1. Remove HTML\n",
    "    review_text = BeautifulSoup(raw_review, \"lxml\").get_text()\n",
    "    # 2. Remove non-letters\n",
    "    letters_only = re.sub(\"[^a-zA-Z]\", \" \", review_text) \n",
    "    # 3. Convert to lower case\n",
    "    lowercase_letters = letters_only.lower()\n",
    "    return lowercase_letters\n",
    "\n",
    "def lemmatize(tokens: list) -> list:\n",
    "    # Do Lemmatize\n",
    "    lemmatized_tokens = list(map(lemmatizer.lemmatize, tokens))\n",
    "    further_lemmatized_tokens = list(map(lambda x: lemmatizer.lemmatize(x, \"v\"), lemmatized_tokens))\n",
    "    return further_lemmatized_tokens\n",
    "\n",
    "def preprocess(review: str, total: int, show_progress: bool = True) -> list:\n",
    "    if show_progress:\n",
    "        global counter\n",
    "        counter += 1\n",
    "        print('Processing... %6i/%6i'% (counter, total), end='\\r')\n",
    "    # 1. Clean text\n",
    "    review = clean_review(review)\n",
    "    # 2. Split into individual words\n",
    "    tokens = word_tokenize(review)\n",
    "    # 3. Remove stop words\n",
    "    meaningful = list(filter(lambda x: not x in stop_words, tokens))\n",
    "    # 4. Lemmatize\n",
    "    lemmas = lemmatize(meaningful)\n",
    "    # 5. Join the words back into one string separated by space,\n",
    "    # and return the result.\n",
    "    return lemmas"
   ]
  },
  {
   "cell_type": "markdown",
   "metadata": {},
   "source": [
    "And let's preprocessing the dataset and see how are the processed review look like."
   ]
  },
  {
   "cell_type": "code",
   "execution_count": 8,
   "metadata": {},
   "outputs": [
    {
     "name": "stdout",
     "output_type": "stream",
     "text": [
      "Processing... 100000/100000\r"
     ]
    }
   ],
   "source": [
    "# Run preprocessing to the training dataset\n",
    "counter = 0\n",
    "clean_all_reviews = np.array(list(map(lambda x: preprocess(x, all_reviews.size), all_reviews)))"
   ]
  },
  {
   "cell_type": "code",
   "execution_count": 9,
   "metadata": {},
   "outputs": [
    {
     "name": "stdout",
     "output_type": "stream",
     "text": [
      "Bromwell High is a cartoon comedy. It ran at the same time as some other programs about school life, such as \"Teachers\". My 35 years in the teaching profession lead me to believe that Bromwell High's satire is much closer to reality than is \"Teachers\". The scramble to survive financially, the insightful students who can see right through their pathetic teachers' pomp, the pettiness of the whole situation, all remind me of the schools I knew and their students. When I saw the episode in which a student repeatedly tried to burn down the school, I immediately recalled ......... at .......... High. A classic line: INSPECTOR: I'm here to sack one of your teachers. STUDENT: Welcome to Bromwell High. I expect that many adults of my age think that Bromwell High is far fetched. What a pity that it isn't!\n",
      "['bromwell', 'high', 'cartoon', 'comedy', 'run', 'time', 'program', 'school', 'life', 'teacher', 'year', 'teach', 'profession', 'lead', 'believe', 'bromwell', 'high', 'satire', 'much', 'closer', 'reality', 'teacher', 'scramble', 'survive', 'financially', 'insightful', 'student', 'see', 'right', 'pathetic', 'teacher', 'pomp', 'pettiness', 'whole', 'situation', 'remind', 'school', 'know', 'student', 'saw', 'episode', 'student', 'repeatedly', 'try', 'burn', 'school', 'immediately', 'recall', 'high', 'classic', 'line', 'inspector', 'sack', 'one', 'teacher', 'student', 'welcome', 'bromwell', 'high', 'expect', 'many', 'adult', 'age', 'think', 'bromwell', 'high', 'far', 'fetch', 'pity']\n"
     ]
    }
   ],
   "source": [
    "# Compare how a review has been processed\n",
    "print(all_reviews[0])\n",
    "print(clean_all_reviews[0])"
   ]
  },
  {
   "cell_type": "markdown",
   "metadata": {},
   "source": [
    "Let's also see how the word per review distribution for the training data."
   ]
  },
  {
   "cell_type": "code",
   "execution_count": 10,
   "metadata": {},
   "outputs": [
    {
     "data": {
      "image/png": "[encoded data removed]",
      "text/plain": [
       "<Figure size 432x288 with 1 Axes>"
      ]
     },
     "metadata": {
      "needs_background": "light"
     },
     "output_type": "display_data"
    }
   ],
   "source": [
    "X_train_data = clean_all_reviews[:train_data.shape[0]]\n",
    "Y_train_data = train_data.sentiment.values\n",
    "\n",
    "train_data['review_lenght'] = np.array(list(map(len, X_train_data)))\n",
    "median = train_data['review_lenght'].median()\n",
    "mean = train_data['review_lenght'].mean()\n",
    "mode = train_data['review_lenght'].mode()[0]\n",
    "\n",
    "fig, ax = plt.subplots()\n",
    "sb.distplot(train_data['review_lenght'], bins=train_data['review_lenght'].max(),\n",
    "            hist_kws={\"alpha\": 0.66, \"color\": \"blue\"}, ax=ax,\n",
    "            kde_kws={\"color\": \"brown\", 'linewidth': 3})\n",
    "ax.set_xlim(left=0, right=np.percentile(train_data['review_lenght'], 95))\n",
    "ax.set_xlabel('Words in review')\n",
    "ymax = 0.016\n",
    "plt.ylim(0, ymax)\n",
    "ax.plot([mode, mode], [0, ymax], '--', label=f'mode = {mode:.2f}', linewidth=2)\n",
    "ax.plot([mean, mean], [0, ymax], '--', label=f'mean = {mean:.2f}', linewidth=2)\n",
    "ax.plot([median, median], [0, ymax], '--', label=f'median = {median:.2f}', linewidth=2)\n",
    "ax.set_title('Words per review distribution')\n",
    "plt.legend()\n",
    "plt.show()"
   ]
  },
  {
   "cell_type": "markdown",
   "metadata": {},
   "source": [
    "## Distributed Word Vectors\n",
    "\n",
    "With the processed `clean_all_reviews` data, we can now proceed to construct our distributed word vectors model using the Word2vec algorithm.\n",
    "\n",
    "Word2vec (Google, 2013) is a neural network implementation that learns distributed representations for words. It does not need labels in order to create meaningful representations. This is useful, since most data in the real world is unlabeled. If the network is given enough training data (tens of billions of words), it produces word vectors with intriguing characteristics. Words with similar meanings appear in clusters, and clusters are spaced such that some word relationships, such as analogies, can be reproduced using vector math. The famous example is that, with highly trained word vectors, \"king - man + woman = queen.\"\n",
    "\n",
    "Let's first use gensim's phrases to find bigrams or trigrams from our data:"
   ]
  },
  {
   "cell_type": "code",
   "execution_count": 11,
   "metadata": {},
   "outputs": [
    {
     "name": "stdout",
     "output_type": "stream",
     "text": [
      "Wall time: 21.9 s\n"
     ]
    }
   ],
   "source": [
    "%%time\n",
    "bigrams = Phrases(sentences=clean_all_reviews)"
   ]
  },
  {
   "cell_type": "code",
   "execution_count": 12,
   "metadata": {},
   "outputs": [
    {
     "name": "stdout",
     "output_type": "stream",
     "text": [
      "Wall time: 1min 10s\n"
     ]
    }
   ],
   "source": [
    "%%time\n",
    "trigrams = Phrases(sentences=bigrams[clean_all_reviews])"
   ]
  },
  {
   "cell_type": "code",
   "execution_count": 13,
   "metadata": {},
   "outputs": [
    {
     "name": "stdout",
     "output_type": "stream",
     "text": [
      "['train_station', 'near', 'new_york']\n"
     ]
    }
   ],
   "source": [
    "# Which will work like this (as an example)\n",
    "print(bigrams['train station near new york'.split()])"
   ]
  },
  {
   "cell_type": "markdown",
   "metadata": {},
   "source": [
    "And let's start to train our Word2Vec model. (This would take quite a long time, so we run it as an individual code block)"
   ]
  },
  {
   "cell_type": "code",
   "execution_count": 14,
   "metadata": {},
   "outputs": [
    {
     "name": "stdout",
     "output_type": "stream",
     "text": [
      "Wall time: 10min 1s\n"
     ]
    }
   ],
   "source": [
    "%%time\n",
    "embedding_vector_size = 256\n",
    "trigrams_model = Word2Vec(\n",
    "    sentences=trigrams[bigrams[clean_all_reviews]],\n",
    "    size=embedding_vector_size,\n",
    "    min_count=3, window=5, workers=4)"
   ]
  },
  {
   "cell_type": "code",
   "execution_count": 15,
   "metadata": {},
   "outputs": [
    {
     "name": "stdout",
     "output_type": "stream",
     "text": [
      "Vocabulary size: 92287\n"
     ]
    }
   ],
   "source": [
    "print(\"Vocabulary size:\", len(trigrams_model.wv.vocab))"
   ]
  },
  {
   "cell_type": "markdown",
   "metadata": {},
   "source": [
    "Finally done! And now we can use our word2vec model to build a word embedding. Also we can use this model to define most similar words, calculate diffence between the words, etc."
   ]
  },
  {
   "cell_type": "code",
   "execution_count": 16,
   "metadata": {},
   "outputs": [
    {
     "data": {
      "text/plain": [
       "[('earth', 0.8660895228385925),\n",
       " ('galaxy', 0.7575183510780334),\n",
       " ('specie', 0.756401777267456),\n",
       " ('universe', 0.7411483526229858),\n",
       " ('civilization', 0.7340728044509888),\n",
       " ('asteroid', 0.7148683667182922),\n",
       " ('radiation', 0.7132657766342163),\n",
       " ('spaceship', 0.705843448638916),\n",
       " ('island', 0.7051829695701599),\n",
       " ('colony', 0.7034358978271484)]"
      ]
     },
     "execution_count": 16,
     "metadata": {},
     "output_type": "execute_result"
    }
   ],
   "source": [
    "# Find similar words\n",
    "trigrams_model.wv.most_similar('planet')"
   ]
  },
  {
   "cell_type": "code",
   "execution_count": 17,
   "metadata": {},
   "outputs": [
    {
     "data": {
      "text/plain": [
       "'cat'"
      ]
     },
     "execution_count": 17,
     "metadata": {},
     "output_type": "execute_result"
    }
   ],
   "source": [
    "# Find the difference\n",
    "trigrams_model.wv.doesnt_match(['planet', 'earth', 'space', 'cat'])"
   ]
  },
  {
   "cell_type": "markdown",
   "metadata": {},
   "source": [
    "Let's output the current model to the resources directory first."
   ]
  },
  {
   "cell_type": "code",
   "execution_count": 18,
   "metadata": {},
   "outputs": [],
   "source": [
    "# Dump the model as a pickles\n",
    "pickle.dump(trigrams_model, open('resources/trigrams_model.pickle', 'wb'))"
   ]
  },
  {
   "cell_type": "markdown",
   "metadata": {},
   "source": [
    "The next thing we need to do is to convert sentences to sentences with ngrams for vetorizing our sentences. And with the vetorized sentences, we can transform them into sequences to build the model. The vectorizing step will be done in part 2 since that process would take quite a bit of time."
   ]
  },
  {
   "cell_type": "code",
   "execution_count": 19,
   "metadata": {},
   "outputs": [
    {
     "name": "stdout",
     "output_type": "stream",
     "text": [
      "Convert sentences to sentences-with-n-grams... (done)\n",
      "Convert sentences to sentences-with-n-grams... (done)\n",
      "Wall time: 16.5 s\n"
     ]
    }
   ],
   "source": [
    "%%time\n",
    "# Load test data\n",
    "test_start = train_data.shape[0]\n",
    "test_end = test_start + test_data.shape[0]\n",
    "X_test_data = clean_all_reviews[test_start:test_end]\n",
    "Y_test_data = test_data.sentiment.values\n",
    "\n",
    "# Convert sentences to sentences-with-n-grams\n",
    "print('Convert sentences to sentences-with-n-grams...', end='\\r')\n",
    "X_train = trigrams[bigrams[X_train_data]]\n",
    "print('Convert sentences to sentences-with-n-grams... (done)')\n",
    "\n",
    "print('Convert sentences to sentences-with-n-grams...', end='\\r')\n",
    "X_test = trigrams[bigrams[X_test_data]]\n",
    "print('Convert sentences to sentences-with-n-grams... (done)')\n",
    "\n",
    "# Dump the formatted dataset also as pickles\n",
    "pickle.dump([X_train, Y_train_data], open('resources/trainset.pickle', 'wb'))\n",
    "pickle.dump([X_test, Y_test_data], open('resources/testset.pickle', 'wb'))"
   ]
  },
  {
   "cell_type": "markdown",
   "metadata": {},
   "source": [
    "---\n",
    "**End of Part 1**"
   ]
  }
 ],
 "metadata": {
  "kernelspec": {
   "display_name": "Python 3",
   "language": "python",
   "name": "python3"
  },
  "language_info": {
   "codemirror_mode": {
    "name": "ipython",
    "version": 3
   },
   "file_extension": ".py",
   "mimetype": "text/x-python",
   "name": "python",
   "nbconvert_exporter": "python",
   "pygments_lexer": "ipython3",
   "version": "3.7.4"
  }
 },
 "nbformat": 4,
 "nbformat_minor": 1
}
